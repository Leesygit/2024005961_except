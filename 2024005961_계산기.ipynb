{
 "cells": [
  {
   "cell_type": "markdown",
   "id": "59ec5d07",
   "metadata": {},
   "source": [
    "## 예외 처리 계산기"
   ]
  },
  {
   "cell_type": "markdown",
   "id": "b3256bd0",
   "metadata": {},
   "source": [
    "* while True로 정수로 입력하지 않았으면 ValueError 발생으로 루프"
   ]
  },
  {
   "cell_type": "code",
   "execution_count": null,
   "id": "7b7fcadf",
   "metadata": {},
   "outputs": [],
   "source": [
    "while True:\n",
    "  try:\n",
    "    a, b = map(int, input(\"숫자 두개를 입력해주세요\").split())\n",
    "  except ValueError:\n",
    "    print(\"정수로 입력해주세요.\")"
   ]
  },
  {
   "cell_type": "markdown",
   "id": "c59b1f0e",
   "metadata": {},
   "source": [
    "* 입력한 숫자 중 두번째 숫자가 0이면 옳은 값을 입력할 때까지 다시 실행"
   ]
  },
  {
   "cell_type": "code",
   "execution_count": null,
   "id": "886f8cdf",
   "metadata": {},
   "outputs": [],
   "source": [
    "  else:\n",
    "    try:\n",
    "      c = a / b\n",
    "      print(c)\n",
    "    except:\n",
    "      print(\"입력한 숫자를 확인해주세요.\")\n",
    "    else:\n",
    "      print(f'{a} / {b} = {c}')\n",
    "      break\n",
    "    finally:\n",
    "      print(\"calculation completed\")"
   ]
  }
 ],
 "metadata": {
  "kernelspec": {
   "display_name": "Python 3 (ipykernel)",
   "language": "python",
   "name": "python3"
  },
  "language_info": {
   "codemirror_mode": {
    "name": "ipython",
    "version": 3
   },
   "file_extension": ".py",
   "mimetype": "text/x-python",
   "name": "python",
   "nbconvert_exporter": "python",
   "pygments_lexer": "ipython3",
   "version": "3.9.12"
  }
 },
 "nbformat": 4,
 "nbformat_minor": 5
}
